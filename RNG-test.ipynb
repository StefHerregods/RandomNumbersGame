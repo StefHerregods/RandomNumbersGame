{
 "cells": [
  {
   "cell_type": "markdown",
   "id": "387170af",
   "metadata": {},
   "source": [
    "# Random number generating - Test File"
   ]
  },
  {
   "cell_type": "markdown",
   "id": "db29b35f",
   "metadata": {},
   "source": [
    "## Set-up"
   ]
  },
  {
   "cell_type": "code",
   "execution_count": 15,
   "id": "e9ca53b4",
   "metadata": {
    "ExecuteTime": {
     "end_time": "2022-06-10T13:26:08.989876Z",
     "start_time": "2022-06-10T13:26:07.467654Z"
    }
   },
   "outputs": [],
   "source": [
    "import pandas as pd\n",
    "import numpy as np\n",
    "import plotly.express as px"
   ]
  },
  {
   "cell_type": "markdown",
   "id": "17913500",
   "metadata": {},
   "source": [
    "## Human Number Generator"
   ]
  },
  {
   "cell_type": "code",
   "execution_count": 23,
   "id": "7a578f9d",
   "metadata": {},
   "outputs": [],
   "source": [
    "HNG = '0841654068496'"
   ]
  },
  {
   "cell_type": "code",
   "execution_count": 27,
   "id": "c130fb13",
   "metadata": {},
   "outputs": [
    {
     "name": "stdout",
     "output_type": "stream",
     "text": [
      "13\n"
     ]
    }
   ],
   "source": [
    "length = len(HNG)\n",
    "all_digits = ['0', '1', '2', '3', '4', '5', '6', '7', '8', '9']"
   ]
  },
  {
   "cell_type": "markdown",
   "id": "3c9aa437",
   "metadata": {},
   "source": [
    "## Generate random data"
   ]
  },
  {
   "cell_type": "code",
   "execution_count": 20,
   "id": "0c275ea0",
   "metadata": {},
   "outputs": [],
   "source": [
    "a = np.random.randint(low=0,high=10,size=1000)"
   ]
  },
  {
   "cell_type": "markdown",
   "id": "d0996e79",
   "metadata": {},
   "source": [
    "### Expected number distribution"
   ]
  },
  {
   "cell_type": "code",
   "execution_count": 22,
   "id": "fe2efdf7",
   "metadata": {},
   "outputs": [
    {
     "data": {
      "application/vnd.plotly.v1+json": {
       "config": {
        "plotlyServerURL": "https://plot.ly"
       },
       "data": [
        {
         "alignmentgroup": "True",
         "bingroup": "x",
         "hovertemplate": "variable=0<br>value=%{x}<br>count=%{y}<extra></extra>",
         "legendgroup": "0",
         "marker": {
          "color": "#636efa",
          "pattern": {
           "shape": ""
          }
         },
         "name": "0",
         "offsetgroup": "0",
         "orientation": "v",
         "showlegend": true,
         "type": "histogram",
         "x": [
          8,
          5,
          9,
          2,
          6,
          6,
          6,
          0,
          7,
          6,
          5,
          3,
          3,
          7,
          9,
          9,
          4,
          7,
          1,
          9,
          8,
          8,
          4,
          2,
          6,
          6,
          8,
          7,
          2,
          1,
          2,
          9,
          1,
          0,
          8,
          9,
          5,
          6,
          0,
          7,
          9,
          8,
          2,
          4,
          3,
          9,
          7,
          1,
          4,
          5,
          7,
          4,
          0,
          7,
          3,
          4,
          8,
          2,
          4,
          4,
          3,
          7,
          4,
          3,
          8,
          8,
          6,
          5,
          9,
          8,
          8,
          6,
          3,
          0,
          7,
          6,
          5,
          7,
          1,
          3,
          0,
          2,
          4,
          9,
          3,
          8,
          7,
          1,
          6,
          1,
          6,
          8,
          3,
          6,
          4,
          2,
          2,
          3,
          5,
          4,
          6,
          5,
          8,
          2,
          6,
          2,
          2,
          5,
          0,
          0,
          8,
          3,
          1,
          4,
          3,
          8,
          8,
          2,
          9,
          2,
          7,
          6,
          4,
          7,
          8,
          8,
          6,
          3,
          3,
          7,
          4,
          9,
          4,
          5,
          8,
          0,
          8,
          1,
          4,
          8,
          3,
          2,
          9,
          5,
          1,
          9,
          0,
          6,
          5,
          6,
          9,
          7,
          0,
          5,
          5,
          5,
          9,
          0,
          2,
          3,
          4,
          2,
          1,
          6,
          1,
          4,
          5,
          4,
          5,
          5,
          6,
          3,
          8,
          3,
          4,
          8,
          1,
          2,
          7,
          2,
          2,
          1,
          1,
          6,
          7,
          4,
          6,
          4,
          8,
          1,
          2,
          2,
          3,
          9,
          9,
          1,
          5,
          0,
          9,
          8,
          1,
          2,
          8,
          6,
          9,
          3,
          1,
          0,
          4,
          4,
          9,
          2,
          7,
          2,
          6,
          3,
          5,
          2,
          4,
          5,
          5,
          4,
          4,
          0,
          8,
          4,
          3,
          0,
          4,
          1,
          6,
          9,
          4,
          8,
          4,
          0,
          5,
          1,
          8,
          1,
          9,
          3,
          6,
          3,
          6,
          2,
          9,
          2,
          0,
          5,
          1,
          0,
          0,
          0,
          3,
          8,
          5,
          6,
          7,
          0,
          0,
          2,
          8,
          9,
          3,
          2,
          6,
          8,
          4,
          3,
          6,
          6,
          7,
          0,
          0,
          2,
          8,
          4,
          3,
          3,
          6,
          5,
          2,
          3,
          1,
          8,
          8,
          5,
          4,
          2,
          4,
          3,
          6,
          1,
          7,
          1,
          1,
          9,
          3,
          4,
          7,
          6,
          5,
          3,
          5,
          8,
          8,
          0,
          0,
          9,
          3,
          1,
          1,
          8,
          4,
          7,
          0,
          0,
          4,
          9,
          5,
          6,
          8,
          3,
          8,
          2,
          4,
          4,
          2,
          6,
          7,
          1,
          5,
          1,
          7,
          3,
          2,
          1,
          6,
          5,
          8,
          3,
          7,
          8,
          1,
          0,
          5,
          2,
          8,
          3,
          7,
          0,
          4,
          5,
          2,
          2,
          9,
          0,
          7,
          9,
          3,
          1,
          5,
          7,
          7,
          6,
          6,
          2,
          8,
          6,
          1,
          3,
          3,
          9,
          6,
          7,
          5,
          6,
          5,
          6,
          5,
          8,
          6,
          8,
          7,
          1,
          5,
          3,
          0,
          5,
          8,
          6,
          4,
          8,
          0,
          1,
          7,
          1,
          5,
          2,
          0,
          1,
          5,
          2,
          6,
          6,
          4,
          8,
          2,
          6,
          0,
          3,
          1,
          5,
          3,
          0,
          4,
          9,
          8,
          1,
          6,
          5,
          7,
          0,
          8,
          9,
          7,
          2,
          6,
          3,
          9,
          6,
          8,
          3,
          5,
          3,
          7,
          8,
          7,
          5,
          1,
          3,
          4,
          0,
          4,
          0,
          6,
          5,
          2,
          4,
          2,
          6,
          2,
          9,
          0,
          7,
          4,
          9,
          2,
          6,
          6,
          3,
          3,
          6,
          8,
          2,
          1,
          5,
          5,
          2,
          9,
          3,
          1,
          2,
          4,
          7,
          0,
          4,
          6,
          0,
          6,
          8,
          3,
          4,
          3,
          1,
          2,
          6,
          4,
          7,
          6,
          0,
          6,
          2,
          4,
          9,
          1,
          4,
          9,
          3,
          6,
          1,
          7,
          9,
          6,
          5,
          2,
          3,
          5,
          4,
          2,
          7,
          2,
          7,
          7,
          9,
          3,
          5,
          8,
          0,
          5,
          4,
          6,
          9,
          9,
          8,
          2,
          3,
          3,
          0,
          0,
          7,
          3,
          6,
          3,
          0,
          8,
          8,
          7,
          5,
          9,
          2,
          3,
          7,
          7,
          7,
          3,
          9,
          7,
          9,
          6,
          7,
          9,
          7,
          4,
          1,
          1,
          2,
          7,
          0,
          1,
          9,
          7,
          8,
          9,
          2,
          5,
          0,
          5,
          8,
          0,
          1,
          4,
          5,
          2,
          0,
          1,
          1,
          3,
          7,
          3,
          1,
          8,
          1,
          7,
          7,
          9,
          6,
          6,
          8,
          6,
          0,
          3,
          9,
          7,
          6,
          7,
          8,
          7,
          7,
          2,
          5,
          9,
          7,
          4,
          0,
          8,
          8,
          9,
          5,
          7,
          2,
          1,
          1,
          7,
          1,
          8,
          3,
          5,
          2,
          5,
          4,
          8,
          5,
          9,
          2,
          4,
          7,
          4,
          0,
          1,
          8,
          9,
          5,
          0,
          8,
          8,
          8,
          0,
          4,
          7,
          3,
          3,
          2,
          2,
          7,
          1,
          6,
          6,
          8,
          1,
          8,
          8,
          9,
          7,
          2,
          1,
          5,
          1,
          6,
          6,
          5,
          3,
          1,
          4,
          6,
          3,
          7,
          0,
          1,
          4,
          2,
          2,
          9,
          4,
          2,
          9,
          2,
          7,
          7,
          4,
          4,
          8,
          0,
          2,
          7,
          0,
          0,
          6,
          9,
          1,
          2,
          2,
          3,
          7,
          6,
          4,
          5,
          9,
          2,
          0,
          5,
          0,
          7,
          4,
          4,
          3,
          6,
          2,
          3,
          9,
          1,
          3,
          8,
          2,
          1,
          1,
          1,
          5,
          7,
          2,
          1,
          3,
          2,
          9,
          5,
          2,
          0,
          2,
          0,
          1,
          2,
          7,
          8,
          9,
          6,
          9,
          0,
          9,
          0,
          4,
          6,
          3,
          4,
          0,
          4,
          7,
          2,
          4,
          8,
          8,
          5,
          7,
          9,
          7,
          4,
          0,
          4,
          4,
          0,
          5,
          0,
          8,
          2,
          6,
          1,
          9,
          3,
          4,
          9,
          0,
          2,
          2,
          0,
          5,
          1,
          7,
          2,
          7,
          9,
          6,
          7,
          5,
          0,
          6,
          5,
          2,
          5,
          1,
          7,
          3,
          4,
          1,
          0,
          0,
          0,
          2,
          1,
          5,
          3,
          6,
          8,
          4,
          8,
          7,
          6,
          7,
          4,
          9,
          1,
          4,
          8,
          1,
          7,
          0,
          9,
          8,
          6,
          2,
          8,
          4,
          1,
          0,
          5,
          4,
          9,
          6,
          4,
          4,
          4,
          1,
          9,
          3,
          7,
          2,
          1,
          6,
          7,
          5,
          3,
          0,
          3,
          6,
          5,
          7,
          0,
          0,
          2,
          9,
          8,
          6,
          0,
          3,
          2,
          7,
          0,
          8,
          1,
          4,
          2,
          9,
          5,
          8,
          3,
          2,
          4,
          7,
          5,
          7,
          5,
          6,
          1,
          7,
          7,
          5,
          7,
          0,
          6,
          5,
          0,
          5,
          2,
          4,
          8,
          5,
          3,
          0,
          9,
          1,
          0,
          4,
          8,
          5,
          5,
          4,
          6,
          1,
          8,
          0,
          6,
          3,
          2,
          7,
          7,
          0,
          3,
          1,
          9,
          3,
          6,
          4,
          3,
          7,
          1,
          8,
          4,
          2,
          3,
          9,
          0,
          2,
          3,
          7,
          5,
          6,
          5,
          5,
          4,
          9,
          0,
          9,
          0,
          2,
          8,
          1,
          5,
          4,
          9,
          5,
          6,
          8,
          6,
          6,
          9,
          3,
          9,
          4,
          8,
          7,
          8,
          1,
          4,
          9,
          3,
          4,
          8,
          7,
          9,
          6,
          7,
          5,
          1,
          8,
          3,
          8,
          0,
          3,
          9,
          6,
          1,
          8,
          9,
          0,
          4,
          4,
          0,
          6,
          3,
          2,
          6,
          0,
          3,
          4,
          7,
          0,
          1,
          9,
          8,
          7,
          8,
          7,
          9,
          7,
          1,
          8,
          8,
          9,
          6,
          5,
          0
         ],
         "xaxis": "x",
         "yaxis": "y"
        }
       ],
       "layout": {
        "bargap": 0.2,
        "barmode": "relative",
        "legend": {
         "title": {
          "text": "variable"
         },
         "tracegroupgap": 0
        },
        "margin": {
         "t": 60
        },
        "template": {
         "data": {
          "bar": [
           {
            "error_x": {
             "color": "#2a3f5f"
            },
            "error_y": {
             "color": "#2a3f5f"
            },
            "marker": {
             "line": {
              "color": "#E5ECF6",
              "width": 0.5
             },
             "pattern": {
              "fillmode": "overlay",
              "size": 10,
              "solidity": 0.2
             }
            },
            "type": "bar"
           }
          ],
          "barpolar": [
           {
            "marker": {
             "line": {
              "color": "#E5ECF6",
              "width": 0.5
             },
             "pattern": {
              "fillmode": "overlay",
              "size": 10,
              "solidity": 0.2
             }
            },
            "type": "barpolar"
           }
          ],
          "carpet": [
           {
            "aaxis": {
             "endlinecolor": "#2a3f5f",
             "gridcolor": "white",
             "linecolor": "white",
             "minorgridcolor": "white",
             "startlinecolor": "#2a3f5f"
            },
            "baxis": {
             "endlinecolor": "#2a3f5f",
             "gridcolor": "white",
             "linecolor": "white",
             "minorgridcolor": "white",
             "startlinecolor": "#2a3f5f"
            },
            "type": "carpet"
           }
          ],
          "choropleth": [
           {
            "colorbar": {
             "outlinewidth": 0,
             "ticks": ""
            },
            "type": "choropleth"
           }
          ],
          "contour": [
           {
            "colorbar": {
             "outlinewidth": 0,
             "ticks": ""
            },
            "colorscale": [
             [
              0,
              "#0d0887"
             ],
             [
              0.1111111111111111,
              "#46039f"
             ],
             [
              0.2222222222222222,
              "#7201a8"
             ],
             [
              0.3333333333333333,
              "#9c179e"
             ],
             [
              0.4444444444444444,
              "#bd3786"
             ],
             [
              0.5555555555555556,
              "#d8576b"
             ],
             [
              0.6666666666666666,
              "#ed7953"
             ],
             [
              0.7777777777777778,
              "#fb9f3a"
             ],
             [
              0.8888888888888888,
              "#fdca26"
             ],
             [
              1,
              "#f0f921"
             ]
            ],
            "type": "contour"
           }
          ],
          "contourcarpet": [
           {
            "colorbar": {
             "outlinewidth": 0,
             "ticks": ""
            },
            "type": "contourcarpet"
           }
          ],
          "heatmap": [
           {
            "colorbar": {
             "outlinewidth": 0,
             "ticks": ""
            },
            "colorscale": [
             [
              0,
              "#0d0887"
             ],
             [
              0.1111111111111111,
              "#46039f"
             ],
             [
              0.2222222222222222,
              "#7201a8"
             ],
             [
              0.3333333333333333,
              "#9c179e"
             ],
             [
              0.4444444444444444,
              "#bd3786"
             ],
             [
              0.5555555555555556,
              "#d8576b"
             ],
             [
              0.6666666666666666,
              "#ed7953"
             ],
             [
              0.7777777777777778,
              "#fb9f3a"
             ],
             [
              0.8888888888888888,
              "#fdca26"
             ],
             [
              1,
              "#f0f921"
             ]
            ],
            "type": "heatmap"
           }
          ],
          "heatmapgl": [
           {
            "colorbar": {
             "outlinewidth": 0,
             "ticks": ""
            },
            "colorscale": [
             [
              0,
              "#0d0887"
             ],
             [
              0.1111111111111111,
              "#46039f"
             ],
             [
              0.2222222222222222,
              "#7201a8"
             ],
             [
              0.3333333333333333,
              "#9c179e"
             ],
             [
              0.4444444444444444,
              "#bd3786"
             ],
             [
              0.5555555555555556,
              "#d8576b"
             ],
             [
              0.6666666666666666,
              "#ed7953"
             ],
             [
              0.7777777777777778,
              "#fb9f3a"
             ],
             [
              0.8888888888888888,
              "#fdca26"
             ],
             [
              1,
              "#f0f921"
             ]
            ],
            "type": "heatmapgl"
           }
          ],
          "histogram": [
           {
            "marker": {
             "pattern": {
              "fillmode": "overlay",
              "size": 10,
              "solidity": 0.2
             }
            },
            "type": "histogram"
           }
          ],
          "histogram2d": [
           {
            "colorbar": {
             "outlinewidth": 0,
             "ticks": ""
            },
            "colorscale": [
             [
              0,
              "#0d0887"
             ],
             [
              0.1111111111111111,
              "#46039f"
             ],
             [
              0.2222222222222222,
              "#7201a8"
             ],
             [
              0.3333333333333333,
              "#9c179e"
             ],
             [
              0.4444444444444444,
              "#bd3786"
             ],
             [
              0.5555555555555556,
              "#d8576b"
             ],
             [
              0.6666666666666666,
              "#ed7953"
             ],
             [
              0.7777777777777778,
              "#fb9f3a"
             ],
             [
              0.8888888888888888,
              "#fdca26"
             ],
             [
              1,
              "#f0f921"
             ]
            ],
            "type": "histogram2d"
           }
          ],
          "histogram2dcontour": [
           {
            "colorbar": {
             "outlinewidth": 0,
             "ticks": ""
            },
            "colorscale": [
             [
              0,
              "#0d0887"
             ],
             [
              0.1111111111111111,
              "#46039f"
             ],
             [
              0.2222222222222222,
              "#7201a8"
             ],
             [
              0.3333333333333333,
              "#9c179e"
             ],
             [
              0.4444444444444444,
              "#bd3786"
             ],
             [
              0.5555555555555556,
              "#d8576b"
             ],
             [
              0.6666666666666666,
              "#ed7953"
             ],
             [
              0.7777777777777778,
              "#fb9f3a"
             ],
             [
              0.8888888888888888,
              "#fdca26"
             ],
             [
              1,
              "#f0f921"
             ]
            ],
            "type": "histogram2dcontour"
           }
          ],
          "mesh3d": [
           {
            "colorbar": {
             "outlinewidth": 0,
             "ticks": ""
            },
            "type": "mesh3d"
           }
          ],
          "parcoords": [
           {
            "line": {
             "colorbar": {
              "outlinewidth": 0,
              "ticks": ""
             }
            },
            "type": "parcoords"
           }
          ],
          "pie": [
           {
            "automargin": true,
            "type": "pie"
           }
          ],
          "scatter": [
           {
            "fillpattern": {
             "fillmode": "overlay",
             "size": 10,
             "solidity": 0.2
            },
            "type": "scatter"
           }
          ],
          "scatter3d": [
           {
            "line": {
             "colorbar": {
              "outlinewidth": 0,
              "ticks": ""
             }
            },
            "marker": {
             "colorbar": {
              "outlinewidth": 0,
              "ticks": ""
             }
            },
            "type": "scatter3d"
           }
          ],
          "scattercarpet": [
           {
            "marker": {
             "colorbar": {
              "outlinewidth": 0,
              "ticks": ""
             }
            },
            "type": "scattercarpet"
           }
          ],
          "scattergeo": [
           {
            "marker": {
             "colorbar": {
              "outlinewidth": 0,
              "ticks": ""
             }
            },
            "type": "scattergeo"
           }
          ],
          "scattergl": [
           {
            "marker": {
             "colorbar": {
              "outlinewidth": 0,
              "ticks": ""
             }
            },
            "type": "scattergl"
           }
          ],
          "scattermapbox": [
           {
            "marker": {
             "colorbar": {
              "outlinewidth": 0,
              "ticks": ""
             }
            },
            "type": "scattermapbox"
           }
          ],
          "scatterpolar": [
           {
            "marker": {
             "colorbar": {
              "outlinewidth": 0,
              "ticks": ""
             }
            },
            "type": "scatterpolar"
           }
          ],
          "scatterpolargl": [
           {
            "marker": {
             "colorbar": {
              "outlinewidth": 0,
              "ticks": ""
             }
            },
            "type": "scatterpolargl"
           }
          ],
          "scatterternary": [
           {
            "marker": {
             "colorbar": {
              "outlinewidth": 0,
              "ticks": ""
             }
            },
            "type": "scatterternary"
           }
          ],
          "surface": [
           {
            "colorbar": {
             "outlinewidth": 0,
             "ticks": ""
            },
            "colorscale": [
             [
              0,
              "#0d0887"
             ],
             [
              0.1111111111111111,
              "#46039f"
             ],
             [
              0.2222222222222222,
              "#7201a8"
             ],
             [
              0.3333333333333333,
              "#9c179e"
             ],
             [
              0.4444444444444444,
              "#bd3786"
             ],
             [
              0.5555555555555556,
              "#d8576b"
             ],
             [
              0.6666666666666666,
              "#ed7953"
             ],
             [
              0.7777777777777778,
              "#fb9f3a"
             ],
             [
              0.8888888888888888,
              "#fdca26"
             ],
             [
              1,
              "#f0f921"
             ]
            ],
            "type": "surface"
           }
          ],
          "table": [
           {
            "cells": {
             "fill": {
              "color": "#EBF0F8"
             },
             "line": {
              "color": "white"
             }
            },
            "header": {
             "fill": {
              "color": "#C8D4E3"
             },
             "line": {
              "color": "white"
             }
            },
            "type": "table"
           }
          ]
         },
         "layout": {
          "annotationdefaults": {
           "arrowcolor": "#2a3f5f",
           "arrowhead": 0,
           "arrowwidth": 1
          },
          "autotypenumbers": "strict",
          "coloraxis": {
           "colorbar": {
            "outlinewidth": 0,
            "ticks": ""
           }
          },
          "colorscale": {
           "diverging": [
            [
             0,
             "#8e0152"
            ],
            [
             0.1,
             "#c51b7d"
            ],
            [
             0.2,
             "#de77ae"
            ],
            [
             0.3,
             "#f1b6da"
            ],
            [
             0.4,
             "#fde0ef"
            ],
            [
             0.5,
             "#f7f7f7"
            ],
            [
             0.6,
             "#e6f5d0"
            ],
            [
             0.7,
             "#b8e186"
            ],
            [
             0.8,
             "#7fbc41"
            ],
            [
             0.9,
             "#4d9221"
            ],
            [
             1,
             "#276419"
            ]
           ],
           "sequential": [
            [
             0,
             "#0d0887"
            ],
            [
             0.1111111111111111,
             "#46039f"
            ],
            [
             0.2222222222222222,
             "#7201a8"
            ],
            [
             0.3333333333333333,
             "#9c179e"
            ],
            [
             0.4444444444444444,
             "#bd3786"
            ],
            [
             0.5555555555555556,
             "#d8576b"
            ],
            [
             0.6666666666666666,
             "#ed7953"
            ],
            [
             0.7777777777777778,
             "#fb9f3a"
            ],
            [
             0.8888888888888888,
             "#fdca26"
            ],
            [
             1,
             "#f0f921"
            ]
           ],
           "sequentialminus": [
            [
             0,
             "#0d0887"
            ],
            [
             0.1111111111111111,
             "#46039f"
            ],
            [
             0.2222222222222222,
             "#7201a8"
            ],
            [
             0.3333333333333333,
             "#9c179e"
            ],
            [
             0.4444444444444444,
             "#bd3786"
            ],
            [
             0.5555555555555556,
             "#d8576b"
            ],
            [
             0.6666666666666666,
             "#ed7953"
            ],
            [
             0.7777777777777778,
             "#fb9f3a"
            ],
            [
             0.8888888888888888,
             "#fdca26"
            ],
            [
             1,
             "#f0f921"
            ]
           ]
          },
          "colorway": [
           "#636efa",
           "#EF553B",
           "#00cc96",
           "#ab63fa",
           "#FFA15A",
           "#19d3f3",
           "#FF6692",
           "#B6E880",
           "#FF97FF",
           "#FECB52"
          ],
          "font": {
           "color": "#2a3f5f"
          },
          "geo": {
           "bgcolor": "white",
           "lakecolor": "white",
           "landcolor": "#E5ECF6",
           "showlakes": true,
           "showland": true,
           "subunitcolor": "white"
          },
          "hoverlabel": {
           "align": "left"
          },
          "hovermode": "closest",
          "mapbox": {
           "style": "light"
          },
          "paper_bgcolor": "white",
          "plot_bgcolor": "#E5ECF6",
          "polar": {
           "angularaxis": {
            "gridcolor": "white",
            "linecolor": "white",
            "ticks": ""
           },
           "bgcolor": "#E5ECF6",
           "radialaxis": {
            "gridcolor": "white",
            "linecolor": "white",
            "ticks": ""
           }
          },
          "scene": {
           "xaxis": {
            "backgroundcolor": "#E5ECF6",
            "gridcolor": "white",
            "gridwidth": 2,
            "linecolor": "white",
            "showbackground": true,
            "ticks": "",
            "zerolinecolor": "white"
           },
           "yaxis": {
            "backgroundcolor": "#E5ECF6",
            "gridcolor": "white",
            "gridwidth": 2,
            "linecolor": "white",
            "showbackground": true,
            "ticks": "",
            "zerolinecolor": "white"
           },
           "zaxis": {
            "backgroundcolor": "#E5ECF6",
            "gridcolor": "white",
            "gridwidth": 2,
            "linecolor": "white",
            "showbackground": true,
            "ticks": "",
            "zerolinecolor": "white"
           }
          },
          "shapedefaults": {
           "line": {
            "color": "#2a3f5f"
           }
          },
          "ternary": {
           "aaxis": {
            "gridcolor": "white",
            "linecolor": "white",
            "ticks": ""
           },
           "baxis": {
            "gridcolor": "white",
            "linecolor": "white",
            "ticks": ""
           },
           "bgcolor": "#E5ECF6",
           "caxis": {
            "gridcolor": "white",
            "linecolor": "white",
            "ticks": ""
           }
          },
          "title": {
           "x": 0.05
          },
          "xaxis": {
           "automargin": true,
           "gridcolor": "white",
           "linecolor": "white",
           "ticks": "",
           "title": {
            "standoff": 15
           },
           "zerolinecolor": "white",
           "zerolinewidth": 2
          },
          "yaxis": {
           "automargin": true,
           "gridcolor": "white",
           "linecolor": "white",
           "ticks": "",
           "title": {
            "standoff": 15
           },
           "zerolinecolor": "white",
           "zerolinewidth": 2
          }
         }
        },
        "xaxis": {
         "anchor": "y",
         "domain": [
          0,
          1
         ],
         "title": {
          "text": "value"
         }
        },
        "yaxis": {
         "anchor": "x",
         "domain": [
          0,
          1
         ],
         "title": {
          "text": "count"
         }
        }
       }
      },
      "text/html": [
       "<div>                            <div id=\"31510283-4154-4c46-b28a-886459e53114\" class=\"plotly-graph-div\" style=\"height:525px; width:100%;\"></div>            <script type=\"text/javascript\">                require([\"plotly\"], function(Plotly) {                    window.PLOTLYENV=window.PLOTLYENV || {};                                    if (document.getElementById(\"31510283-4154-4c46-b28a-886459e53114\")) {                    Plotly.newPlot(                        \"31510283-4154-4c46-b28a-886459e53114\",                        [{\"alignmentgroup\":\"True\",\"bingroup\":\"x\",\"hovertemplate\":\"variable=0<br>value=%{x}<br>count=%{y}<extra></extra>\",\"legendgroup\":\"0\",\"marker\":{\"color\":\"#636efa\",\"pattern\":{\"shape\":\"\"}},\"name\":\"0\",\"offsetgroup\":\"0\",\"orientation\":\"v\",\"showlegend\":true,\"x\":[8,5,9,2,6,6,6,0,7,6,5,3,3,7,9,9,4,7,1,9,8,8,4,2,6,6,8,7,2,1,2,9,1,0,8,9,5,6,0,7,9,8,2,4,3,9,7,1,4,5,7,4,0,7,3,4,8,2,4,4,3,7,4,3,8,8,6,5,9,8,8,6,3,0,7,6,5,7,1,3,0,2,4,9,3,8,7,1,6,1,6,8,3,6,4,2,2,3,5,4,6,5,8,2,6,2,2,5,0,0,8,3,1,4,3,8,8,2,9,2,7,6,4,7,8,8,6,3,3,7,4,9,4,5,8,0,8,1,4,8,3,2,9,5,1,9,0,6,5,6,9,7,0,5,5,5,9,0,2,3,4,2,1,6,1,4,5,4,5,5,6,3,8,3,4,8,1,2,7,2,2,1,1,6,7,4,6,4,8,1,2,2,3,9,9,1,5,0,9,8,1,2,8,6,9,3,1,0,4,4,9,2,7,2,6,3,5,2,4,5,5,4,4,0,8,4,3,0,4,1,6,9,4,8,4,0,5,1,8,1,9,3,6,3,6,2,9,2,0,5,1,0,0,0,3,8,5,6,7,0,0,2,8,9,3,2,6,8,4,3,6,6,7,0,0,2,8,4,3,3,6,5,2,3,1,8,8,5,4,2,4,3,6,1,7,1,1,9,3,4,7,6,5,3,5,8,8,0,0,9,3,1,1,8,4,7,0,0,4,9,5,6,8,3,8,2,4,4,2,6,7,1,5,1,7,3,2,1,6,5,8,3,7,8,1,0,5,2,8,3,7,0,4,5,2,2,9,0,7,9,3,1,5,7,7,6,6,2,8,6,1,3,3,9,6,7,5,6,5,6,5,8,6,8,7,1,5,3,0,5,8,6,4,8,0,1,7,1,5,2,0,1,5,2,6,6,4,8,2,6,0,3,1,5,3,0,4,9,8,1,6,5,7,0,8,9,7,2,6,3,9,6,8,3,5,3,7,8,7,5,1,3,4,0,4,0,6,5,2,4,2,6,2,9,0,7,4,9,2,6,6,3,3,6,8,2,1,5,5,2,9,3,1,2,4,7,0,4,6,0,6,8,3,4,3,1,2,6,4,7,6,0,6,2,4,9,1,4,9,3,6,1,7,9,6,5,2,3,5,4,2,7,2,7,7,9,3,5,8,0,5,4,6,9,9,8,2,3,3,0,0,7,3,6,3,0,8,8,7,5,9,2,3,7,7,7,3,9,7,9,6,7,9,7,4,1,1,2,7,0,1,9,7,8,9,2,5,0,5,8,0,1,4,5,2,0,1,1,3,7,3,1,8,1,7,7,9,6,6,8,6,0,3,9,7,6,7,8,7,7,2,5,9,7,4,0,8,8,9,5,7,2,1,1,7,1,8,3,5,2,5,4,8,5,9,2,4,7,4,0,1,8,9,5,0,8,8,8,0,4,7,3,3,2,2,7,1,6,6,8,1,8,8,9,7,2,1,5,1,6,6,5,3,1,4,6,3,7,0,1,4,2,2,9,4,2,9,2,7,7,4,4,8,0,2,7,0,0,6,9,1,2,2,3,7,6,4,5,9,2,0,5,0,7,4,4,3,6,2,3,9,1,3,8,2,1,1,1,5,7,2,1,3,2,9,5,2,0,2,0,1,2,7,8,9,6,9,0,9,0,4,6,3,4,0,4,7,2,4,8,8,5,7,9,7,4,0,4,4,0,5,0,8,2,6,1,9,3,4,9,0,2,2,0,5,1,7,2,7,9,6,7,5,0,6,5,2,5,1,7,3,4,1,0,0,0,2,1,5,3,6,8,4,8,7,6,7,4,9,1,4,8,1,7,0,9,8,6,2,8,4,1,0,5,4,9,6,4,4,4,1,9,3,7,2,1,6,7,5,3,0,3,6,5,7,0,0,2,9,8,6,0,3,2,7,0,8,1,4,2,9,5,8,3,2,4,7,5,7,5,6,1,7,7,5,7,0,6,5,0,5,2,4,8,5,3,0,9,1,0,4,8,5,5,4,6,1,8,0,6,3,2,7,7,0,3,1,9,3,6,4,3,7,1,8,4,2,3,9,0,2,3,7,5,6,5,5,4,9,0,9,0,2,8,1,5,4,9,5,6,8,6,6,9,3,9,4,8,7,8,1,4,9,3,4,8,7,9,6,7,5,1,8,3,8,0,3,9,6,1,8,9,0,4,4,0,6,3,2,6,0,3,4,7,0,1,9,8,7,8,7,9,7,1,8,8,9,6,5,0],\"xaxis\":\"x\",\"yaxis\":\"y\",\"type\":\"histogram\"}],                        {\"template\":{\"data\":{\"histogram2dcontour\":[{\"type\":\"histogram2dcontour\",\"colorbar\":{\"outlinewidth\":0,\"ticks\":\"\"},\"colorscale\":[[0.0,\"#0d0887\"],[0.1111111111111111,\"#46039f\"],[0.2222222222222222,\"#7201a8\"],[0.3333333333333333,\"#9c179e\"],[0.4444444444444444,\"#bd3786\"],[0.5555555555555556,\"#d8576b\"],[0.6666666666666666,\"#ed7953\"],[0.7777777777777778,\"#fb9f3a\"],[0.8888888888888888,\"#fdca26\"],[1.0,\"#f0f921\"]]}],\"choropleth\":[{\"type\":\"choropleth\",\"colorbar\":{\"outlinewidth\":0,\"ticks\":\"\"}}],\"histogram2d\":[{\"type\":\"histogram2d\",\"colorbar\":{\"outlinewidth\":0,\"ticks\":\"\"},\"colorscale\":[[0.0,\"#0d0887\"],[0.1111111111111111,\"#46039f\"],[0.2222222222222222,\"#7201a8\"],[0.3333333333333333,\"#9c179e\"],[0.4444444444444444,\"#bd3786\"],[0.5555555555555556,\"#d8576b\"],[0.6666666666666666,\"#ed7953\"],[0.7777777777777778,\"#fb9f3a\"],[0.8888888888888888,\"#fdca26\"],[1.0,\"#f0f921\"]]}],\"heatmap\":[{\"type\":\"heatmap\",\"colorbar\":{\"outlinewidth\":0,\"ticks\":\"\"},\"colorscale\":[[0.0,\"#0d0887\"],[0.1111111111111111,\"#46039f\"],[0.2222222222222222,\"#7201a8\"],[0.3333333333333333,\"#9c179e\"],[0.4444444444444444,\"#bd3786\"],[0.5555555555555556,\"#d8576b\"],[0.6666666666666666,\"#ed7953\"],[0.7777777777777778,\"#fb9f3a\"],[0.8888888888888888,\"#fdca26\"],[1.0,\"#f0f921\"]]}],\"heatmapgl\":[{\"type\":\"heatmapgl\",\"colorbar\":{\"outlinewidth\":0,\"ticks\":\"\"},\"colorscale\":[[0.0,\"#0d0887\"],[0.1111111111111111,\"#46039f\"],[0.2222222222222222,\"#7201a8\"],[0.3333333333333333,\"#9c179e\"],[0.4444444444444444,\"#bd3786\"],[0.5555555555555556,\"#d8576b\"],[0.6666666666666666,\"#ed7953\"],[0.7777777777777778,\"#fb9f3a\"],[0.8888888888888888,\"#fdca26\"],[1.0,\"#f0f921\"]]}],\"contourcarpet\":[{\"type\":\"contourcarpet\",\"colorbar\":{\"outlinewidth\":0,\"ticks\":\"\"}}],\"contour\":[{\"type\":\"contour\",\"colorbar\":{\"outlinewidth\":0,\"ticks\":\"\"},\"colorscale\":[[0.0,\"#0d0887\"],[0.1111111111111111,\"#46039f\"],[0.2222222222222222,\"#7201a8\"],[0.3333333333333333,\"#9c179e\"],[0.4444444444444444,\"#bd3786\"],[0.5555555555555556,\"#d8576b\"],[0.6666666666666666,\"#ed7953\"],[0.7777777777777778,\"#fb9f3a\"],[0.8888888888888888,\"#fdca26\"],[1.0,\"#f0f921\"]]}],\"surface\":[{\"type\":\"surface\",\"colorbar\":{\"outlinewidth\":0,\"ticks\":\"\"},\"colorscale\":[[0.0,\"#0d0887\"],[0.1111111111111111,\"#46039f\"],[0.2222222222222222,\"#7201a8\"],[0.3333333333333333,\"#9c179e\"],[0.4444444444444444,\"#bd3786\"],[0.5555555555555556,\"#d8576b\"],[0.6666666666666666,\"#ed7953\"],[0.7777777777777778,\"#fb9f3a\"],[0.8888888888888888,\"#fdca26\"],[1.0,\"#f0f921\"]]}],\"mesh3d\":[{\"type\":\"mesh3d\",\"colorbar\":{\"outlinewidth\":0,\"ticks\":\"\"}}],\"scatter\":[{\"fillpattern\":{\"fillmode\":\"overlay\",\"size\":10,\"solidity\":0.2},\"type\":\"scatter\"}],\"parcoords\":[{\"type\":\"parcoords\",\"line\":{\"colorbar\":{\"outlinewidth\":0,\"ticks\":\"\"}}}],\"scatterpolargl\":[{\"type\":\"scatterpolargl\",\"marker\":{\"colorbar\":{\"outlinewidth\":0,\"ticks\":\"\"}}}],\"bar\":[{\"error_x\":{\"color\":\"#2a3f5f\"},\"error_y\":{\"color\":\"#2a3f5f\"},\"marker\":{\"line\":{\"color\":\"#E5ECF6\",\"width\":0.5},\"pattern\":{\"fillmode\":\"overlay\",\"size\":10,\"solidity\":0.2}},\"type\":\"bar\"}],\"scattergeo\":[{\"type\":\"scattergeo\",\"marker\":{\"colorbar\":{\"outlinewidth\":0,\"ticks\":\"\"}}}],\"scatterpolar\":[{\"type\":\"scatterpolar\",\"marker\":{\"colorbar\":{\"outlinewidth\":0,\"ticks\":\"\"}}}],\"histogram\":[{\"marker\":{\"pattern\":{\"fillmode\":\"overlay\",\"size\":10,\"solidity\":0.2}},\"type\":\"histogram\"}],\"scattergl\":[{\"type\":\"scattergl\",\"marker\":{\"colorbar\":{\"outlinewidth\":0,\"ticks\":\"\"}}}],\"scatter3d\":[{\"type\":\"scatter3d\",\"line\":{\"colorbar\":{\"outlinewidth\":0,\"ticks\":\"\"}},\"marker\":{\"colorbar\":{\"outlinewidth\":0,\"ticks\":\"\"}}}],\"scattermapbox\":[{\"type\":\"scattermapbox\",\"marker\":{\"colorbar\":{\"outlinewidth\":0,\"ticks\":\"\"}}}],\"scatterternary\":[{\"type\":\"scatterternary\",\"marker\":{\"colorbar\":{\"outlinewidth\":0,\"ticks\":\"\"}}}],\"scattercarpet\":[{\"type\":\"scattercarpet\",\"marker\":{\"colorbar\":{\"outlinewidth\":0,\"ticks\":\"\"}}}],\"carpet\":[{\"aaxis\":{\"endlinecolor\":\"#2a3f5f\",\"gridcolor\":\"white\",\"linecolor\":\"white\",\"minorgridcolor\":\"white\",\"startlinecolor\":\"#2a3f5f\"},\"baxis\":{\"endlinecolor\":\"#2a3f5f\",\"gridcolor\":\"white\",\"linecolor\":\"white\",\"minorgridcolor\":\"white\",\"startlinecolor\":\"#2a3f5f\"},\"type\":\"carpet\"}],\"table\":[{\"cells\":{\"fill\":{\"color\":\"#EBF0F8\"},\"line\":{\"color\":\"white\"}},\"header\":{\"fill\":{\"color\":\"#C8D4E3\"},\"line\":{\"color\":\"white\"}},\"type\":\"table\"}],\"barpolar\":[{\"marker\":{\"line\":{\"color\":\"#E5ECF6\",\"width\":0.5},\"pattern\":{\"fillmode\":\"overlay\",\"size\":10,\"solidity\":0.2}},\"type\":\"barpolar\"}],\"pie\":[{\"automargin\":true,\"type\":\"pie\"}]},\"layout\":{\"autotypenumbers\":\"strict\",\"colorway\":[\"#636efa\",\"#EF553B\",\"#00cc96\",\"#ab63fa\",\"#FFA15A\",\"#19d3f3\",\"#FF6692\",\"#B6E880\",\"#FF97FF\",\"#FECB52\"],\"font\":{\"color\":\"#2a3f5f\"},\"hovermode\":\"closest\",\"hoverlabel\":{\"align\":\"left\"},\"paper_bgcolor\":\"white\",\"plot_bgcolor\":\"#E5ECF6\",\"polar\":{\"bgcolor\":\"#E5ECF6\",\"angularaxis\":{\"gridcolor\":\"white\",\"linecolor\":\"white\",\"ticks\":\"\"},\"radialaxis\":{\"gridcolor\":\"white\",\"linecolor\":\"white\",\"ticks\":\"\"}},\"ternary\":{\"bgcolor\":\"#E5ECF6\",\"aaxis\":{\"gridcolor\":\"white\",\"linecolor\":\"white\",\"ticks\":\"\"},\"baxis\":{\"gridcolor\":\"white\",\"linecolor\":\"white\",\"ticks\":\"\"},\"caxis\":{\"gridcolor\":\"white\",\"linecolor\":\"white\",\"ticks\":\"\"}},\"coloraxis\":{\"colorbar\":{\"outlinewidth\":0,\"ticks\":\"\"}},\"colorscale\":{\"sequential\":[[0.0,\"#0d0887\"],[0.1111111111111111,\"#46039f\"],[0.2222222222222222,\"#7201a8\"],[0.3333333333333333,\"#9c179e\"],[0.4444444444444444,\"#bd3786\"],[0.5555555555555556,\"#d8576b\"],[0.6666666666666666,\"#ed7953\"],[0.7777777777777778,\"#fb9f3a\"],[0.8888888888888888,\"#fdca26\"],[1.0,\"#f0f921\"]],\"sequentialminus\":[[0.0,\"#0d0887\"],[0.1111111111111111,\"#46039f\"],[0.2222222222222222,\"#7201a8\"],[0.3333333333333333,\"#9c179e\"],[0.4444444444444444,\"#bd3786\"],[0.5555555555555556,\"#d8576b\"],[0.6666666666666666,\"#ed7953\"],[0.7777777777777778,\"#fb9f3a\"],[0.8888888888888888,\"#fdca26\"],[1.0,\"#f0f921\"]],\"diverging\":[[0,\"#8e0152\"],[0.1,\"#c51b7d\"],[0.2,\"#de77ae\"],[0.3,\"#f1b6da\"],[0.4,\"#fde0ef\"],[0.5,\"#f7f7f7\"],[0.6,\"#e6f5d0\"],[0.7,\"#b8e186\"],[0.8,\"#7fbc41\"],[0.9,\"#4d9221\"],[1,\"#276419\"]]},\"xaxis\":{\"gridcolor\":\"white\",\"linecolor\":\"white\",\"ticks\":\"\",\"title\":{\"standoff\":15},\"zerolinecolor\":\"white\",\"automargin\":true,\"zerolinewidth\":2},\"yaxis\":{\"gridcolor\":\"white\",\"linecolor\":\"white\",\"ticks\":\"\",\"title\":{\"standoff\":15},\"zerolinecolor\":\"white\",\"automargin\":true,\"zerolinewidth\":2},\"scene\":{\"xaxis\":{\"backgroundcolor\":\"#E5ECF6\",\"gridcolor\":\"white\",\"linecolor\":\"white\",\"showbackground\":true,\"ticks\":\"\",\"zerolinecolor\":\"white\",\"gridwidth\":2},\"yaxis\":{\"backgroundcolor\":\"#E5ECF6\",\"gridcolor\":\"white\",\"linecolor\":\"white\",\"showbackground\":true,\"ticks\":\"\",\"zerolinecolor\":\"white\",\"gridwidth\":2},\"zaxis\":{\"backgroundcolor\":\"#E5ECF6\",\"gridcolor\":\"white\",\"linecolor\":\"white\",\"showbackground\":true,\"ticks\":\"\",\"zerolinecolor\":\"white\",\"gridwidth\":2}},\"shapedefaults\":{\"line\":{\"color\":\"#2a3f5f\"}},\"annotationdefaults\":{\"arrowcolor\":\"#2a3f5f\",\"arrowhead\":0,\"arrowwidth\":1},\"geo\":{\"bgcolor\":\"white\",\"landcolor\":\"#E5ECF6\",\"subunitcolor\":\"white\",\"showland\":true,\"showlakes\":true,\"lakecolor\":\"white\"},\"title\":{\"x\":0.05},\"mapbox\":{\"style\":\"light\"}}},\"xaxis\":{\"anchor\":\"y\",\"domain\":[0.0,1.0],\"title\":{\"text\":\"value\"}},\"yaxis\":{\"anchor\":\"x\",\"domain\":[0.0,1.0],\"title\":{\"text\":\"count\"}},\"legend\":{\"title\":{\"text\":\"variable\"},\"tracegroupgap\":0},\"margin\":{\"t\":60},\"barmode\":\"relative\",\"bargap\":0.2},                        {\"responsive\": true}                    ).then(function(){\n",
       "                            \n",
       "var gd = document.getElementById('31510283-4154-4c46-b28a-886459e53114');\n",
       "var x = new MutationObserver(function (mutations, observer) {{\n",
       "        var display = window.getComputedStyle(gd).display;\n",
       "        if (!display || display === 'none') {{\n",
       "            console.log([gd, 'removed!']);\n",
       "            Plotly.purge(gd);\n",
       "            observer.disconnect();\n",
       "        }}\n",
       "}});\n",
       "\n",
       "// Listen for the removal of the full notebook cells\n",
       "var notebookContainer = gd.closest('#notebook-container');\n",
       "if (notebookContainer) {{\n",
       "    x.observe(notebookContainer, {childList: true});\n",
       "}}\n",
       "\n",
       "// Listen for the clearing of the current output cell\n",
       "var outputEl = gd.closest('.output');\n",
       "if (outputEl) {{\n",
       "    x.observe(outputEl, {childList: true});\n",
       "}}\n",
       "\n",
       "                        })                };                });            </script>        </div>"
      ]
     },
     "metadata": {},
     "output_type": "display_data"
    }
   ],
   "source": [
    "fig = px.histogram(a)\n",
    "fig.update_layout(bargap=0.2)\n",
    "fig.show()"
   ]
  },
  {
   "cell_type": "markdown",
   "id": "792a086a",
   "metadata": {},
   "source": [
    "### Expected repetitions"
   ]
  },
  {
   "cell_type": "code",
   "execution_count": null,
   "id": "e0c2f7d3",
   "metadata": {},
   "outputs": [],
   "source": []
  }
 ],
 "metadata": {
  "kernelspec": {
   "display_name": "Python 3 (ipykernel)",
   "language": "python",
   "name": "python3"
  },
  "language_info": {
   "codemirror_mode": {
    "name": "ipython",
    "version": 3
   },
   "file_extension": ".py",
   "mimetype": "text/x-python",
   "name": "python",
   "nbconvert_exporter": "python",
   "pygments_lexer": "ipython3",
   "version": "3.8.8"
  },
  "toc": {
   "base_numbering": 1,
   "nav_menu": {},
   "number_sections": true,
   "sideBar": true,
   "skip_h1_title": false,
   "title_cell": "Table of Contents",
   "title_sidebar": "Contents",
   "toc_cell": false,
   "toc_position": {},
   "toc_section_display": true,
   "toc_window_display": false
  },
  "varInspector": {
   "cols": {
    "lenName": 16,
    "lenType": 16,
    "lenVar": 40
   },
   "kernels_config": {
    "python": {
     "delete_cmd_postfix": "",
     "delete_cmd_prefix": "del ",
     "library": "var_list.py",
     "varRefreshCmd": "print(var_dic_list())"
    },
    "r": {
     "delete_cmd_postfix": ") ",
     "delete_cmd_prefix": "rm(",
     "library": "var_list.r",
     "varRefreshCmd": "cat(var_dic_list()) "
    }
   },
   "types_to_exclude": [
    "module",
    "function",
    "builtin_function_or_method",
    "instance",
    "_Feature"
   ],
   "window_display": false
  }
 },
 "nbformat": 4,
 "nbformat_minor": 5
}
